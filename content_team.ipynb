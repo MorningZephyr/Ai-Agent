{
 "cells": [
  {
   "cell_type": "markdown",
   "id": "97aac090",
   "metadata": {},
   "source": [
    "### Google Search Agent"
   ]
  },
  {
   "cell_type": "code",
   "execution_count": 1,
   "id": "8d007a31",
   "metadata": {},
   "outputs": [
    {
     "name": "stdout",
     "output_type": "stream",
     "text": [
      "Agent Response:  Here's some of the latest AI news from July 2025:\n",
      "\n",
      "**AI Advancements & Models:**\n",
      "\n",
      "*   **SoftBank** anticipates that Artificial Superintelligence (ASI) will arrive within 10 years, surpassing Artificial General Intelligence (AGI).\n",
      "*   **Mistral AI** has integrated voice recognition and deep research tools into Le Chat.\n",
      "*   **Google** has introduced open MedGemma AI models that have the potential to revolutionize healthcare.\n",
      "*   **Tencent** is improving the testing of creative AI models using a new benchmark called ArtifactsBench.\n",
      "*   **Google** made AI models faster and more affordable, and has added voice search and improved photo search capabilities.\n",
      "*   **Google** introduced AlphaGenome, an AI to better understand the human genome.\n",
      "*   **Researchers** have developed an AI model with over 90% accuracy in early disease detection, potentially revolutionizing preventative care.\n",
      "*   **Scientists** have developed an AI model that mimics human decision-making with high accuracy in complex moral and social dilemmas.\n",
      "\n",
      "**AI Applications:**\n",
      "\n",
      "*   **AI** is changing the insurance industry.\n",
      "*   **Military AI contracts** have been awarded to Anthropic, OpenAI, Google, and xAI.\n",
      "*   **AI** can now help students learn and scientists understand the human body better.\n",
      "*   **Google’s AI agent** was able to stop a cyberattack before the hackers acted.\n",
      "\n",
      "**Business & Market Developments:**\n",
      "\n",
      "*   **Mira Murati's** AI startup, Thinking Machines, has raised $2 billion in funding, valuing the company at $10 billion.\n",
      "*   **Salesforce** is set to acquire Informatica in an $8 billion deal.\n",
      "*   **Apple** has lost a key AI leader to Meta.\n",
      "*   **OpenAI** loses Windsurf as Google acquires the AI startup’s CEO, team, and tech for $2.4B.\n",
      "\n",
      "**Challenges & Concerns:**\n",
      "\n",
      "*   A study revealed that AI agents that perform well in simulations often fail in basic retail tasks in real-world environments.\n",
      "*   There is an ongoing discussion about whether speed and safety can coexist in the AI race.\n"
     ]
    }
   ],
   "source": [
    "from google.adk.agents import Agent\n",
    "from google.adk.runners import Runner\n",
    "from google.adk.sessions import InMemorySessionService\n",
    "from google.adk.tools import google_search\n",
    "from google.genai import types\n",
    "\n",
    "\n",
    "root_agent = Agent(\n",
    "    name=\"basic_search_agent\",\n",
    "    model=\"gemini-2.0-flash\",\n",
    "    description=\"Agent to answer questions using Google Search.\",\n",
    "    instruction=\"I can answer your questions by searching the internet. Just ask me anything!\",\n",
    "    tools=[google_search]\n",
    ")\n",
    "\n",
    "APP_NAME=\"google_search_agent\"\n",
    "USER_ID=\"user1234\"\n",
    "SESSION_ID=\"1234\"\n",
    "\n",
    "# Session and Runner\n",
    "async def setup_session_and_runner():\n",
    "    session_service = InMemorySessionService()\n",
    "    session = await session_service.create_session(app_name=APP_NAME, user_id=USER_ID, session_id=SESSION_ID)\n",
    "    runner = Runner(agent=root_agent, app_name=APP_NAME, session_service=session_service)\n",
    "    return session, runner\n",
    "\n",
    "# Agent Interaction\n",
    "async def call_agent_async(query):\n",
    "    content = types.Content(role='user', parts=[types.Part(text=query)])\n",
    "    session, runner = await setup_session_and_runner()\n",
    "    events = runner.run_async(user_id=USER_ID, session_id=SESSION_ID, new_message=content)\n",
    "\n",
    "    async for event in events:\n",
    "        if event.is_final_response():\n",
    "            final_response = event.content.parts[0].text\n",
    "            print(\"Agent Response: \", final_response)\n",
    "\n",
    "# Note: In Colab, you can directly use 'await' at the top level.\n",
    "# If running this code as a standalone Python script, you'll need to use asyncio.run() or manage the event loop.\n",
    "await call_agent_async(\"what's the latest ai news?\")"
   ]
  },
  {
   "cell_type": "code",
   "execution_count": null,
   "id": "6634c920",
   "metadata": {},
   "outputs": [],
   "source": []
  }
 ],
 "metadata": {
  "kernelspec": {
   "display_name": ".venv",
   "language": "python",
   "name": "python3"
  },
  "language_info": {
   "codemirror_mode": {
    "name": "ipython",
    "version": 3
   },
   "file_extension": ".py",
   "mimetype": "text/x-python",
   "name": "python",
   "nbconvert_exporter": "python",
   "pygments_lexer": "ipython3",
   "version": "3.10.6"
  }
 },
 "nbformat": 4,
 "nbformat_minor": 5
}
