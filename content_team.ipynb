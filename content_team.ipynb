{
 "cells": [
  {
   "cell_type": "markdown",
   "id": "c740824a",
   "metadata": {},
   "source": [
    "### Setups"
   ]
  },
  {
   "cell_type": "code",
   "execution_count": 6,
   "id": "6634c920",
   "metadata": {},
   "outputs": [
    {
     "name": "stdout",
     "output_type": "stream",
     "text": [
      "Libraries imported.\n",
      "API Keys Set:\n",
      "Google API Key set: Yes\n"
     ]
    }
   ],
   "source": [
    "import os\n",
    "import asyncio\n",
    "from google.adk.agents import Agent\n",
    "from google.adk.tools import FunctionTool\n",
    "from google.adk.tools import google_search\n",
    "from google.adk.models.lite_llm import LiteLlm # For multi-model support\n",
    "from google.adk.sessions import InMemorySessionService\n",
    "from google.adk.runners import Runner\n",
    "from google.genai import types # For creating message Content/Parts\n",
    "\n",
    "import warnings\n",
    "# Ignore all warnings\n",
    "warnings.filterwarnings(\"ignore\")\n",
    "\n",
    "import logging\n",
    "logging.basicConfig(level=logging.ERROR)\n",
    "\n",
    "print(\"Libraries imported.\")\n",
    "from dotenv import load_dotenv\n",
    "import os\n",
    "\n",
    "load_dotenv()\n",
    "\n",
    "GOOGLE_API_KEY = os.getenv(\"GOOGLE_API_KEY\")\n",
    "\n",
    "\n",
    "# --- Verify Keys ---\n",
    "print(\"API Keys Set:\")\n",
    "print(f\"Google API Key set: {'Yes' if os.environ.get('GOOGLE_API_KEY') and os.environ['GOOGLE_API_KEY'] != 'YOUR_GOOGLE_API_KEY' else 'No (REPLACE PLACEHOLDER!)'}\")\n",
    "\n",
    "# Configure ADK to use API keys directly (not Vertex AI for this multi-model setup)\n",
    "os.environ[\"GOOGLE_GENAI_USE_VERTEXAI\"] = \"False\"\n",
    "\n",
    "MODEL_GEMINI_2_0_FLASH = \"gemini-2.0-flash\"\n"
   ]
  },
  {
   "cell_type": "markdown",
   "id": "44d50e44",
   "metadata": {},
   "source": [
    "### Sub Agents"
   ]
  },
  {
   "cell_type": "code",
   "execution_count": null,
   "id": "1e7eadda",
   "metadata": {},
   "outputs": [],
   "source": [
    "# Google Search\n",
    "\n",
    "google_search_agent = Agent(\n",
    "    name = \"google_search_agent\",\n",
    "    model= MODEL_GEMINI_2_0_FLASH,\n",
    "    description= \"Agent to answer questions using Google Search.\",\n",
    "    instruction= \"An agent that can answer questions by Google Search.\",\n",
    "    tools=[google_search]\n",
    ")\n"
   ]
  },
  {
   "cell_type": "markdown",
   "id": "3ae0a3cc",
   "metadata": {},
   "source": [
    "### Root Agent"
   ]
  },
  {
   "cell_type": "code",
   "execution_count": null,
   "id": "406df3c9",
   "metadata": {},
   "outputs": [],
   "source": [
    "ROOT_MODEL = MODEL_GEMINI_2_0_FLASH\n",
    "\n"
   ]
  }
 ],
 "metadata": {
  "kernelspec": {
   "display_name": ".venv",
   "language": "python",
   "name": "python3"
  },
  "language_info": {
   "codemirror_mode": {
    "name": "ipython",
    "version": 3
   },
   "file_extension": ".py",
   "mimetype": "text/x-python",
   "name": "python",
   "nbconvert_exporter": "python",
   "pygments_lexer": "ipython3",
   "version": "3.10.6"
  }
 },
 "nbformat": 4,
 "nbformat_minor": 5
}
